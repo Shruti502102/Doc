{
  "nbformat": 4,
  "nbformat_minor": 0,
  "metadata": {
    "colab": {
      "provenance": [],
      "authorship_tag": "ABX9TyNbL4CXjjzbIwvWJM/Y6fLh",
      "include_colab_link": true
    },
    "kernelspec": {
      "name": "python3",
      "display_name": "Python 3"
    },
    "language_info": {
      "name": "python"
    }
  },
  "cells": [
    {
      "cell_type": "markdown",
      "metadata": {
        "id": "view-in-github",
        "colab_type": "text"
      },
      "source": [
        "<a href=\"https://colab.research.google.com/github/Shruti502102/Doc/blob/main/tictac.ipynb\" target=\"_parent\"><img src=\"https://colab.research.google.com/assets/colab-badge.svg\" alt=\"Open In Colab\"/></a>"
      ]
    },
    {
      "cell_type": "markdown",
      "source": [
        "Wap in python for “TIC TAC TOE “."
      ],
      "metadata": {
        "id": "lDjh67OeFO6K"
      }
    },
    {
      "cell_type": "code",
      "execution_count": null,
      "metadata": {
        "id": "sjEP3SBiBXig",
        "colab": {
          "base_uri": "https://localhost:8080/"
        },
        "outputId": "9ab4e252-4963-4050-c92c-23f7082369eb"
      },
      "outputs": [
        {
          "output_type": "stream",
          "name": "stdout",
          "text": [
            "Welcome to Tic Tac Toe!\n",
            "  |   |  \n",
            "-----\n",
            "  |   |  \n",
            "-----\n",
            "  |   |  \n",
            "-----\n",
            "Player X enter row (0, 1, 2): 0\n",
            "Player X enter column (0, 1, 2): 0\n",
            "X |   |  \n",
            "-----\n",
            "  |   |  \n",
            "-----\n",
            "  |   |  \n",
            "-----\n",
            "Player O enter row (0, 1, 2): 1\n",
            "Player O enter column (0, 1, 2): 1\n",
            "X |   |  \n",
            "-----\n",
            "  | O |  \n",
            "-----\n",
            "  |   |  \n",
            "-----\n",
            "Player X enter row (0, 1, 2): 0\n",
            "Player X enter column (0, 1, 2): 1\n",
            "X | X |  \n",
            "-----\n",
            "  | O |  \n",
            "-----\n",
            "  |   |  \n",
            "-----\n",
            "Player O enter row (0, 1, 2): 0\n",
            "Player O enter column (0, 1, 2): 2\n",
            "X | X | O\n",
            "-----\n",
            "  | O |  \n",
            "-----\n",
            "  |   |  \n",
            "-----\n",
            "Player X enter row (0, 1, 2): 2\n",
            "Player X enter column (0, 1, 2): 0\n",
            "X | X | O\n",
            "-----\n",
            "  | O |  \n",
            "-----\n",
            "X |   |  \n",
            "-----\n",
            "Player O enter row (0, 1, 2): 1\n",
            "Player O enter column (0, 1, 2): 0\n",
            "X | X | O\n",
            "-----\n",
            "O | O |  \n",
            "-----\n",
            "X |   |  \n",
            "-----\n",
            "Player X enter row (0, 1, 2): 1\n",
            "Player X enter column (0, 1, 2): 2\n",
            "X | X | O\n",
            "-----\n",
            "O | O | X\n",
            "-----\n",
            "X |   |  \n",
            "-----\n",
            "Player O enter row (0, 1, 2): 2\n",
            "Player O enter column (0, 1, 2): 2\n",
            "X | X | O\n",
            "-----\n",
            "O | O | X\n",
            "-----\n",
            "X |   | O\n",
            "-----\n",
            "Player X enter row (0, 1, 2): 1\n",
            "Player X enter column (0, 1, 2): 1\n",
            "That cell is already taken. Try again.\n",
            "X | X | O\n",
            "-----\n",
            "O | O | X\n",
            "-----\n",
            "X |   | O\n",
            "-----\n",
            "Player X enter row (0, 1, 2): 2\n",
            "Player X enter column (0, 1, 2): 1\n",
            "X | X | O\n",
            "-----\n",
            "O | O | X\n",
            "-----\n",
            "X | X | O\n",
            "-----\n",
            "It's a tie!\n"
          ]
        }
      ],
      "source": [
        "def print_board(board):\n",
        "    for row in board:\n",
        "        print(\" | \".join(row))\n",
        "        print(\"-\" * 5)\n",
        "\n",
        "def check_winner(board):\n",
        "    # Check rows\n",
        "    for row in board:\n",
        "        if row.count(row[0]) == len(row) and row[0] != \" \":\n",
        "            return True\n",
        "\n",
        "    # Check columns\n",
        "    for col in range(len(board[0])):\n",
        "        if board[0][col] == board[1][col] == board[2][col] and board[0][col] != \" \":\n",
        "            return True\n",
        "\n",
        "    # Check diagonals\n",
        "    if board[0][0] == board[1][1] == board[2][2] and board[0][0] != \" \":\n",
        "        return True\n",
        "    if board[0][2] == board[1][1] == board[2][0] and board[0][2] != \" \":\n",
        "        return True\n",
        "\n",
        "    return False\n",
        "\n",
        "def tic_tac_toe():\n",
        "    board = [[\" \" for _ in range(3)] for _ in range(3)]\n",
        "    players = [\"X\", \"O\"]\n",
        "    current_player = 0\n",
        "\n",
        "    print(\"Welcome to Tic Tac Toe!\")\n",
        "\n",
        "    while True:\n",
        "        print_board(board)\n",
        "        row = int(input(\"Player {} enter row (0, 1, 2): \".format(players[current_player])))\n",
        "        col = int(input(\"Player {} enter column (0, 1, 2): \".format(players[current_player])))\n",
        "\n",
        "        if board[row][col] != \" \":\n",
        "            print(\"That cell is already taken. Try again.\")\n",
        "            continue\n",
        "\n",
        "        board[row][col] = players[current_player]\n",
        "\n",
        "        if check_winner(board):\n",
        "            print_board(board)\n",
        "            print(\"Player {} wins!\".format(players[current_player]))\n",
        "            break\n",
        "\n",
        "        if all([cell != \" \" for row in board for cell in row]):\n",
        "            print_board(board)\n",
        "            print(\"It's a tie!\")\n",
        "            break\n",
        "\n",
        "        current_player = (current_player + 1) % 2\n",
        "\n",
        "if __name__ == \"__main__\":\n",
        "    tic_tac_toe()\n"
      ]
    },
    {
      "cell_type": "markdown",
      "source": [
        "Water Jug Problem"
      ],
      "metadata": {
        "id": "tNIhnyEhFkIK"
      }
    },
    {
      "cell_type": "code",
      "source": [
        "from collections import defaultdict\n",
        "print(\"Water Jug Problem\")\n",
        "print(\"1.FILL the 1st Jug\\n2.Fill the 2nd Jug\\n3.Empty the 1st Jug\\n4.Empty the 2nd Jug\\n5.Fill the water from the second jug into the first jug until the first jug is full or the second jug has no water left\\n6.Fill the water from the first jug into the second jug until the second jug is full or the first jug has no water left\")\n",
        "x= int(input('Enter the amount of water in 1st Jug: '))\n",
        "y= int(input(\"Enter the amount of water in 2nd Jug: \"))\n",
        "c= int(input(\"Enter the amount of water we aim to add or delete from the jug: \"))\n",
        "\n",
        "v= defaultdict(lambda:False)\n",
        "def waterjugsolver(a,b):\n",
        "  if (a==c and b==0)or(b==c and a==0):\n",
        "    print(a,b)\n",
        "    return True\n",
        "  if v[(a,b)]==False:\n",
        "    print(a,b)\n",
        "    v[(a,b)]=True\n",
        "    return(waterjugsolver(0,b)or\n",
        "           waterjugsolver(a,0)or\n",
        "           waterjugsolver(x,b)or\n",
        "           waterjugsolver(a,y)or\n",
        "           waterjugsolver(a+min(b,(x-a)),b-min(b,(x-a)))or\n",
        "           waterjugsolver(a-min(a,(y-b)),b+min(a,(y-b))))\n",
        "  else:\n",
        "         return False\n",
        "print(\"Steps:\")\n",
        "a=int(input(\"amount of liquid already filled in jug 1st:\"))\n",
        "b=int(input(\"amount of liquid already filled in jug 2nd:\"))\n",
        "waterjugsolver(a,b)"
      ],
      "metadata": {
        "colab": {
          "base_uri": "https://localhost:8080/"
        },
        "id": "FaO4q3NGGPoK",
        "outputId": "83ddc38f-4b32-4c96-8ff0-ddad802bbfc0"
      },
      "execution_count": null,
      "outputs": [
        {
          "output_type": "stream",
          "name": "stdout",
          "text": [
            "Water Jug Problem\n",
            "1.FILL the 1st Jug\n",
            "2.Fill the 2nd Jug\n",
            "3.Empty the 1st Jug\n",
            "4.Empty the 2nd Jug\n",
            "5.Fill the water from the second jug into the first jug until the first jug is full or the second jug has no water left\n",
            "6.Fill the water from the first jug into the second jug until the second jug is full or the first jug has no water left\n",
            "Enter the amount of water in 1st Jug: 5\n",
            "Enter the amount of water in 2nd Jug: 3\n",
            "Enter the amount of water we aim to add or delete from the jug: 3\n",
            "Steps:\n",
            "amount of liquid already filled in jug 1st:4\n",
            "amount of liquid already filled in jug 2nd:4\n",
            "4 4\n",
            "0 4\n",
            "0 0\n",
            "5 0\n",
            "5 3\n",
            "0 3\n"
          ]
        },
        {
          "output_type": "execute_result",
          "data": {
            "text/plain": [
              "True"
            ]
          },
          "metadata": {},
          "execution_count": 20
        }
      ]
    },
    {
      "cell_type": "markdown",
      "source": [
        "Conditions to get solution of water jug problem:\n",
        "1. Target not=0,-1\n",
        "\n",
        "target should be multiple of\n",
        "\n",
        "1.  target < big jar\n",
        "2.\n",
        "target should be multiple of (GCD (BIG JAR, SMALL JAR(4,6,3)946 false)(654 false)(12,6,9)(4,7,3) not work taget can't be more than container\n",
        "\n"
      ],
      "metadata": {
        "id": "VMxEd5UgRMUv"
      }
    }
  ]
}